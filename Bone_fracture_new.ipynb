{
  "nbformat": 4,
  "nbformat_minor": 0,
  "metadata": {
    "colab": {
      "provenance": []
    },
    "kernelspec": {
      "name": "python3",
      "display_name": "Python 3"
    },
    "language_info": {
      "name": "python"
    }
  },
  "cells": [
    {
      "cell_type": "code",
      "source": [
        "#Can we predict the risk of a bone fracture based on age, alcohol, and calcium levels?"
      ],
      "metadata": {
        "id": "bTHcoDvlm4Lz"
      },
      "execution_count": null,
      "outputs": []
    },
    {
      "cell_type": "markdown",
      "source": [],
      "metadata": {
        "id": "FInpphFqm3tl"
      }
    },
    {
      "cell_type": "code",
      "source": [
        "\n",
        "# Install dependencies\n",
        "!pip install pandas openpyxl scikit-learn matplotlib seaborn\n",
        "\n",
        "#  Import libraries\n",
        "import pandas as pd\n",
        "import matplotlib.pyplot as plt\n",
        "import seaborn as sns\n",
        "from sklearn.model_selection import train_test_split\n",
        "from sklearn.ensemble import RandomForestClassifier\n",
        "from sklearn.metrics import classification_report, confusion_matrix\n",
        "\n",
        "# Load Excel file\n",
        "file_path = \"/content/WM_SAT_Emp_Population_Output_UIW_20221003(2).xlsx\"\n",
        "\n",
        "# Load required sheets\n",
        "fracture_df = pd.read_excel(file_path, sheet_name='Fracture_pop')\n",
        "alcohol_df = pd.read_excel(file_path, sheet_name='ETOH_pop')\n",
        "calcium_df = pd.read_excel(file_path, sheet_name='calcium_pop')\n",
        "target_df = pd.read_excel(file_path, sheet_name='Target_population')\n",
        "\n",
        "\n"
      ],
      "metadata": {
        "colab": {
          "base_uri": "https://localhost:8080/"
        },
        "id": "xIebnxC1j0wT",
        "outputId": "ca0bffe4-ebf8-4331-a14d-7ce7edfc8576"
      },
      "execution_count": 8,
      "outputs": [
        {
          "output_type": "stream",
          "name": "stdout",
          "text": [
            "Requirement already satisfied: pandas in /usr/local/lib/python3.11/dist-packages (2.2.2)\n",
            "Requirement already satisfied: openpyxl in /usr/local/lib/python3.11/dist-packages (3.1.5)\n",
            "Requirement already satisfied: scikit-learn in /usr/local/lib/python3.11/dist-packages (1.6.1)\n",
            "Requirement already satisfied: matplotlib in /usr/local/lib/python3.11/dist-packages (3.10.0)\n",
            "Requirement already satisfied: seaborn in /usr/local/lib/python3.11/dist-packages (0.13.2)\n",
            "Requirement already satisfied: numpy>=1.23.2 in /usr/local/lib/python3.11/dist-packages (from pandas) (2.0.2)\n",
            "Requirement already satisfied: python-dateutil>=2.8.2 in /usr/local/lib/python3.11/dist-packages (from pandas) (2.9.0.post0)\n",
            "Requirement already satisfied: pytz>=2020.1 in /usr/local/lib/python3.11/dist-packages (from pandas) (2025.2)\n",
            "Requirement already satisfied: tzdata>=2022.7 in /usr/local/lib/python3.11/dist-packages (from pandas) (2025.2)\n",
            "Requirement already satisfied: et-xmlfile in /usr/local/lib/python3.11/dist-packages (from openpyxl) (2.0.0)\n",
            "Requirement already satisfied: scipy>=1.6.0 in /usr/local/lib/python3.11/dist-packages (from scikit-learn) (1.15.2)\n",
            "Requirement already satisfied: joblib>=1.2.0 in /usr/local/lib/python3.11/dist-packages (from scikit-learn) (1.4.2)\n",
            "Requirement already satisfied: threadpoolctl>=3.1.0 in /usr/local/lib/python3.11/dist-packages (from scikit-learn) (3.6.0)\n",
            "Requirement already satisfied: contourpy>=1.0.1 in /usr/local/lib/python3.11/dist-packages (from matplotlib) (1.3.2)\n",
            "Requirement already satisfied: cycler>=0.10 in /usr/local/lib/python3.11/dist-packages (from matplotlib) (0.12.1)\n",
            "Requirement already satisfied: fonttools>=4.22.0 in /usr/local/lib/python3.11/dist-packages (from matplotlib) (4.57.0)\n",
            "Requirement already satisfied: kiwisolver>=1.3.1 in /usr/local/lib/python3.11/dist-packages (from matplotlib) (1.4.8)\n",
            "Requirement already satisfied: packaging>=20.0 in /usr/local/lib/python3.11/dist-packages (from matplotlib) (24.2)\n",
            "Requirement already satisfied: pillow>=8 in /usr/local/lib/python3.11/dist-packages (from matplotlib) (11.2.1)\n",
            "Requirement already satisfied: pyparsing>=2.3.1 in /usr/local/lib/python3.11/dist-packages (from matplotlib) (3.2.3)\n",
            "Requirement already satisfied: six>=1.5 in /usr/local/lib/python3.11/dist-packages (from python-dateutil>=2.8.2->pandas) (1.17.0)\n"
          ]
        }
      ]
    },
    {
      "cell_type": "code",
      "source": [
        "# Clean and prepare data\n",
        "\n",
        "# Fracture data\n",
        "fracture_df['Fracture_Risk'] = 1\n",
        "fracture_df = fracture_df[['anon_id', 'Fracture_Risk']]\n",
        "\n",
        "# Alcohol data\n",
        "alcohol_df['Alcohol'] = 1\n",
        "alcohol_df = alcohol_df[['anon_id', 'Alcohol']]\n",
        "\n",
        "# Calcium data\n",
        "calcium_df = calcium_df[['anon_id', 'calcium_val']]\n",
        "calcium_df['calcium_val'] = pd.to_numeric(calcium_df['calcium_val'], errors='coerce')\n",
        "\n",
        "# Age data\n",
        "target_df = target_df[['anon_id', 'member_age']].rename(columns={'member_age': 'Age'})"
      ],
      "metadata": {
        "colab": {
          "base_uri": "https://localhost:8080/"
        },
        "id": "xSUj7k_tVOAy",
        "outputId": "5fea0a5f-c2d9-4ce4-d37b-9d9179daaca3"
      },
      "execution_count": 9,
      "outputs": [
        {
          "output_type": "stream",
          "name": "stderr",
          "text": [
            "<ipython-input-9-b62fb7b7236b>:13: SettingWithCopyWarning: \n",
            "A value is trying to be set on a copy of a slice from a DataFrame.\n",
            "Try using .loc[row_indexer,col_indexer] = value instead\n",
            "\n",
            "See the caveats in the documentation: https://pandas.pydata.org/pandas-docs/stable/user_guide/indexing.html#returning-a-view-versus-a-copy\n",
            "  calcium_df['calcium_val'] = pd.to_numeric(calcium_df['calcium_val'], errors='coerce')\n"
          ]
        }
      ]
    },
    {
      "cell_type": "code",
      "source": [
        "# Merge all data\n",
        "merged = target_df.merge(fracture_df, on='anon_id', how='left')\\\n",
        "                  .merge(alcohol_df, on='anon_id', how='left')\\\n",
        "                  .merge(calcium_df, on='anon_id', how='left')\n",
        "\n",
        "# Fill and clean\n",
        "merged['Fracture_Risk'] = merged['Fracture_Risk'].fillna(0)\n",
        "merged['Alcohol'] = merged['Alcohol'].fillna(0)\n",
        "merged = merged.dropna(subset=['calcium_val', 'Age'])"
      ],
      "metadata": {
        "id": "94XekRhCVYAG"
      },
      "execution_count": 10,
      "outputs": []
    },
    {
      "cell_type": "code",
      "source": [
        "#  Prepare ML features and labels\n",
        "X = merged[['Age', 'Alcohol', 'calcium_val']]\n",
        "y = merged['Fracture_Risk']\n",
        "#Train/test split\n",
        "X_train, X_test, y_train, y_test = train_test_split(X, y, test_size=0.2, random_state=42)\n",
        "\n",
        "#  Train model\n",
        "model = RandomForestClassifier()\n",
        "model.fit(X_train, y_train)\n",
        "\n",
        "# Evaluate\n",
        "y_pred = model.predict(X_test)\n",
        "print(confusion_matrix(y_test, y_pred))\n",
        "print(classification_report(y_test, y_pred))"
      ],
      "metadata": {
        "colab": {
          "base_uri": "https://localhost:8080/"
        },
        "id": "l7RWSxR-Vbco",
        "outputId": "e678ccef-a684-4efe-832e-b71bcd34133d"
      },
      "execution_count": 11,
      "outputs": [
        {
          "output_type": "stream",
          "name": "stdout",
          "text": [
            "[[4160   13]\n",
            " [ 319    3]]\n",
            "              precision    recall  f1-score   support\n",
            "\n",
            "         0.0       0.93      1.00      0.96      4173\n",
            "         1.0       0.19      0.01      0.02       322\n",
            "\n",
            "    accuracy                           0.93      4495\n",
            "   macro avg       0.56      0.50      0.49      4495\n",
            "weighted avg       0.88      0.93      0.89      4495\n",
            "\n"
          ]
        }
      ]
    },
    {
      "cell_type": "code",
      "source": [
        "# Feature importance\n",
        "sns.barplot(x=model.feature_importances_, y=X.columns)\n",
        "plt.title(\"Feature Importance\")\n",
        "plt.show()"
      ],
      "metadata": {
        "colab": {
          "base_uri": "https://localhost:8080/",
          "height": 452
        },
        "id": "CVn5di2iVhZk",
        "outputId": "431828d0-9edf-4d1d-8427-c9ddcb5d61f8"
      },
      "execution_count": 12,
      "outputs": [
        {
          "output_type": "display_data",
          "data": {
            "text/plain": [
              "<Figure size 640x480 with 1 Axes>"
            ],
            "image/png": "[encoded data removed]"
          },
          "metadata": {}
        }
      ]
    },
    {
      "cell_type": "code",
      "source": [],
      "metadata": {
        "id": "2P5qmPrlVexm"
      },
      "execution_count": null,
      "outputs": []
    },
    {
      "cell_type": "code",
      "source": [],
      "metadata": {
        "id": "5lQ1ECjXlCSl"
      },
      "execution_count": null,
      "outputs": []
    },
    {
      "cell_type": "markdown",
      "source": [
        "Results: Accuracy (93%) is misleading — the model is just very good at guessing “no fracture” because fractures are rare.\n",
        "\n",
        "Recall for fractures (class 1) is 0.00: it fails to detect nearly all fracture cases.\n",
        "\n",
        "Precision for fractures (0.07): when it does predict a fracture, it's wrong most of the time.\n",
        "\n",
        "F1-score for fracture class is 0.01: very poor."
      ],
      "metadata": {
        "id": "D9x7wpZulyzp"
      }
    },
    {
      "cell_type": "code",
      "source": [],
      "metadata": {
        "id": "82hf9DDIlueU"
      },
      "execution_count": null,
      "outputs": []
    },
    {
      "cell_type": "markdown",
      "source": [
        "\n",
        "What does this mean\n",
        "Your model is not currently useful for predicting bone fractures.\n",
        "\n",
        "Why?\n",
        "\n",
        "    It is heavily biased toward the majority class (non-fracture).\n",
        "\n",
        "    The class imbalance (4173 vs. 322) causes the model to \"learn\" that saying \"no fracture\" is almost always correct."
      ],
      "metadata": {
        "id": "P5Gg4gv2l-Kw"
      }
    },
    {
      "cell_type": "markdown",
      "source": [
        "How to improve my question: nclude more features:\n",
        "\n",
        "    Bone density scores (DEXA)\n",
        "\n",
        "    Fall history\n",
        "\n",
        "    Medication use (like steroids)\n",
        "\n",
        "    Gender, BMI, smoking, Vitamin D levels"
      ],
      "metadata": {
        "id": "EjvTcYTmmDyS"
      }
    },
    {
      "cell_type": "markdown",
      "source": [
        "Question: Can we predict the risk of a bone fracture based on age, alcohol, and calcium levels?\n",
        "\n",
        "Answer:\n",
        "\n",
        "    Based on current results, we are not yet able to accurately predict bone fractures using only age, alcohol use, and calcium levels. While the model performs well in identifying individuals who are not at risk, it fails to detect most actual fracture cases. This is likely due to the severe class imbalance and the limited scope of predictive features. To improve prediction, additional clinical risk factors and better handling of imbalanced data are needed."
      ],
      "metadata": {
        "id": "NgTn2MBamKxb"
      }
    },
    {
      "cell_type": "code",
      "source": [],
      "metadata": {
        "id": "QT93ND-hmDSj"
      },
      "execution_count": null,
      "outputs": []
    }
  ]
}